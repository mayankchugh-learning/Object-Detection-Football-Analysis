{
 "cells": [
  {
   "cell_type": "code",
   "execution_count": 2,
   "metadata": {},
   "outputs": [
    {
     "name": "stdout",
     "output_type": "stream",
     "text": [
      "Requirement already satisfied: ultralytics in /Users/mayankchugh/gitRepos/mayankchugh.learning/Object-Detection-Football-Analysis/footballvenv/lib/python3.12/site-packages (8.2.19)\n",
      "Requirement already satisfied: matplotlib>=3.3.0 in /Users/mayankchugh/gitRepos/mayankchugh.learning/Object-Detection-Football-Analysis/footballvenv/lib/python3.12/site-packages (from ultralytics) (3.9.0)\n",
      "Requirement already satisfied: opencv-python>=4.6.0 in /Users/mayankchugh/gitRepos/mayankchugh.learning/Object-Detection-Football-Analysis/footballvenv/lib/python3.12/site-packages (from ultralytics) (4.9.0.80)\n",
      "Requirement already satisfied: pillow>=7.1.2 in /Users/mayankchugh/gitRepos/mayankchugh.learning/Object-Detection-Football-Analysis/footballvenv/lib/python3.12/site-packages (from ultralytics) (10.3.0)\n",
      "Requirement already satisfied: pyyaml>=5.3.1 in /Users/mayankchugh/gitRepos/mayankchugh.learning/Object-Detection-Football-Analysis/footballvenv/lib/python3.12/site-packages (from ultralytics) (6.0.1)\n",
      "Requirement already satisfied: requests>=2.23.0 in /Users/mayankchugh/gitRepos/mayankchugh.learning/Object-Detection-Football-Analysis/footballvenv/lib/python3.12/site-packages (from ultralytics) (2.32.2)\n",
      "Requirement already satisfied: scipy>=1.4.1 in /Users/mayankchugh/gitRepos/mayankchugh.learning/Object-Detection-Football-Analysis/footballvenv/lib/python3.12/site-packages (from ultralytics) (1.13.0)\n",
      "Requirement already satisfied: torch>=1.8.0 in /Users/mayankchugh/gitRepos/mayankchugh.learning/Object-Detection-Football-Analysis/footballvenv/lib/python3.12/site-packages (from ultralytics) (2.3.0)\n",
      "Requirement already satisfied: torchvision>=0.9.0 in /Users/mayankchugh/gitRepos/mayankchugh.learning/Object-Detection-Football-Analysis/footballvenv/lib/python3.12/site-packages (from ultralytics) (0.18.0)\n",
      "Requirement already satisfied: tqdm>=4.64.0 in /Users/mayankchugh/gitRepos/mayankchugh.learning/Object-Detection-Football-Analysis/footballvenv/lib/python3.12/site-packages (from ultralytics) (4.66.4)\n",
      "Requirement already satisfied: psutil in /Users/mayankchugh/gitRepos/mayankchugh.learning/Object-Detection-Football-Analysis/footballvenv/lib/python3.12/site-packages (from ultralytics) (5.9.0)\n",
      "Requirement already satisfied: py-cpuinfo in /Users/mayankchugh/gitRepos/mayankchugh.learning/Object-Detection-Football-Analysis/footballvenv/lib/python3.12/site-packages (from ultralytics) (9.0.0)\n",
      "Requirement already satisfied: thop>=0.1.1 in /Users/mayankchugh/gitRepos/mayankchugh.learning/Object-Detection-Football-Analysis/footballvenv/lib/python3.12/site-packages (from ultralytics) (0.1.1.post2209072238)\n",
      "Requirement already satisfied: pandas>=1.1.4 in /Users/mayankchugh/gitRepos/mayankchugh.learning/Object-Detection-Football-Analysis/footballvenv/lib/python3.12/site-packages (from ultralytics) (2.2.2)\n",
      "Requirement already satisfied: seaborn>=0.11.0 in /Users/mayankchugh/gitRepos/mayankchugh.learning/Object-Detection-Football-Analysis/footballvenv/lib/python3.12/site-packages (from ultralytics) (0.13.2)\n",
      "Requirement already satisfied: contourpy>=1.0.1 in /Users/mayankchugh/gitRepos/mayankchugh.learning/Object-Detection-Football-Analysis/footballvenv/lib/python3.12/site-packages (from matplotlib>=3.3.0->ultralytics) (1.2.1)\n",
      "Requirement already satisfied: cycler>=0.10 in /Users/mayankchugh/gitRepos/mayankchugh.learning/Object-Detection-Football-Analysis/footballvenv/lib/python3.12/site-packages (from matplotlib>=3.3.0->ultralytics) (0.10.0)\n",
      "Requirement already satisfied: fonttools>=4.22.0 in /Users/mayankchugh/gitRepos/mayankchugh.learning/Object-Detection-Football-Analysis/footballvenv/lib/python3.12/site-packages (from matplotlib>=3.3.0->ultralytics) (4.51.0)\n",
      "Requirement already satisfied: kiwisolver>=1.3.1 in /Users/mayankchugh/gitRepos/mayankchugh.learning/Object-Detection-Football-Analysis/footballvenv/lib/python3.12/site-packages (from matplotlib>=3.3.0->ultralytics) (1.4.5)\n",
      "Requirement already satisfied: numpy>=1.23 in /Users/mayankchugh/gitRepos/mayankchugh.learning/Object-Detection-Football-Analysis/footballvenv/lib/python3.12/site-packages (from matplotlib>=3.3.0->ultralytics) (1.26.4)\n",
      "Requirement already satisfied: packaging>=20.0 in /Users/mayankchugh/gitRepos/mayankchugh.learning/Object-Detection-Football-Analysis/footballvenv/lib/python3.12/site-packages (from matplotlib>=3.3.0->ultralytics) (24.0)\n",
      "Requirement already satisfied: pyparsing>=2.3.1 in /Users/mayankchugh/gitRepos/mayankchugh.learning/Object-Detection-Football-Analysis/footballvenv/lib/python3.12/site-packages (from matplotlib>=3.3.0->ultralytics) (3.1.2)\n",
      "Requirement already satisfied: python-dateutil>=2.7 in /Users/mayankchugh/gitRepos/mayankchugh.learning/Object-Detection-Football-Analysis/footballvenv/lib/python3.12/site-packages (from matplotlib>=3.3.0->ultralytics) (2.9.0)\n",
      "Requirement already satisfied: pytz>=2020.1 in /Users/mayankchugh/gitRepos/mayankchugh.learning/Object-Detection-Football-Analysis/footballvenv/lib/python3.12/site-packages (from pandas>=1.1.4->ultralytics) (2024.1)\n",
      "Requirement already satisfied: tzdata>=2022.7 in /Users/mayankchugh/gitRepos/mayankchugh.learning/Object-Detection-Football-Analysis/footballvenv/lib/python3.12/site-packages (from pandas>=1.1.4->ultralytics) (2024.1)\n",
      "Requirement already satisfied: charset-normalizer<4,>=2 in /Users/mayankchugh/gitRepos/mayankchugh.learning/Object-Detection-Football-Analysis/footballvenv/lib/python3.12/site-packages (from requests>=2.23.0->ultralytics) (3.3.2)\n",
      "Requirement already satisfied: idna<4,>=2.5 in /Users/mayankchugh/gitRepos/mayankchugh.learning/Object-Detection-Football-Analysis/footballvenv/lib/python3.12/site-packages (from requests>=2.23.0->ultralytics) (2.10)\n",
      "Requirement already satisfied: urllib3<3,>=1.21.1 in /Users/mayankchugh/gitRepos/mayankchugh.learning/Object-Detection-Football-Analysis/footballvenv/lib/python3.12/site-packages (from requests>=2.23.0->ultralytics) (2.2.1)\n",
      "Requirement already satisfied: certifi>=2017.4.17 in /Users/mayankchugh/gitRepos/mayankchugh.learning/Object-Detection-Football-Analysis/footballvenv/lib/python3.12/site-packages (from requests>=2.23.0->ultralytics) (2023.7.22)\n",
      "Requirement already satisfied: filelock in /Users/mayankchugh/gitRepos/mayankchugh.learning/Object-Detection-Football-Analysis/footballvenv/lib/python3.12/site-packages (from torch>=1.8.0->ultralytics) (3.14.0)\n",
      "Requirement already satisfied: typing-extensions>=4.8.0 in /Users/mayankchugh/gitRepos/mayankchugh.learning/Object-Detection-Football-Analysis/footballvenv/lib/python3.12/site-packages (from torch>=1.8.0->ultralytics) (4.11.0)\n",
      "Requirement already satisfied: sympy in /Users/mayankchugh/gitRepos/mayankchugh.learning/Object-Detection-Football-Analysis/footballvenv/lib/python3.12/site-packages (from torch>=1.8.0->ultralytics) (1.12)\n",
      "Requirement already satisfied: networkx in /Users/mayankchugh/gitRepos/mayankchugh.learning/Object-Detection-Football-Analysis/footballvenv/lib/python3.12/site-packages (from torch>=1.8.0->ultralytics) (3.3)\n",
      "Requirement already satisfied: jinja2 in /Users/mayankchugh/gitRepos/mayankchugh.learning/Object-Detection-Football-Analysis/footballvenv/lib/python3.12/site-packages (from torch>=1.8.0->ultralytics) (3.1.4)\n",
      "Requirement already satisfied: fsspec in /Users/mayankchugh/gitRepos/mayankchugh.learning/Object-Detection-Football-Analysis/footballvenv/lib/python3.12/site-packages (from torch>=1.8.0->ultralytics) (2024.5.0)\n",
      "Requirement already satisfied: six in /Users/mayankchugh/gitRepos/mayankchugh.learning/Object-Detection-Football-Analysis/footballvenv/lib/python3.12/site-packages (from cycler>=0.10->matplotlib>=3.3.0->ultralytics) (1.16.0)\n",
      "Requirement already satisfied: MarkupSafe>=2.0 in /Users/mayankchugh/gitRepos/mayankchugh.learning/Object-Detection-Football-Analysis/footballvenv/lib/python3.12/site-packages (from jinja2->torch>=1.8.0->ultralytics) (2.1.5)\n",
      "Requirement already satisfied: mpmath>=0.19 in /Users/mayankchugh/gitRepos/mayankchugh.learning/Object-Detection-Football-Analysis/footballvenv/lib/python3.12/site-packages (from sympy->torch>=1.8.0->ultralytics) (1.3.0)\n"
     ]
    }
   ],
   "source": [
    "!pip install ultralytics"
   ]
  },
  {
   "cell_type": "code",
   "execution_count": 3,
   "metadata": {},
   "outputs": [
    {
     "name": "stdout",
     "output_type": "stream",
     "text": [
      "Requirement already satisfied: roboflow in /Users/mayankchugh/gitRepos/mayankchugh.learning/Object-Detection-Football-Analysis/footballvenv/lib/python3.12/site-packages (1.1.29)\n",
      "Requirement already satisfied: certifi==2023.7.22 in /Users/mayankchugh/gitRepos/mayankchugh.learning/Object-Detection-Football-Analysis/footballvenv/lib/python3.12/site-packages (from roboflow) (2023.7.22)\n",
      "Requirement already satisfied: chardet==4.0.0 in /Users/mayankchugh/gitRepos/mayankchugh.learning/Object-Detection-Football-Analysis/footballvenv/lib/python3.12/site-packages (from roboflow) (4.0.0)\n",
      "Requirement already satisfied: cycler==0.10.0 in /Users/mayankchugh/gitRepos/mayankchugh.learning/Object-Detection-Football-Analysis/footballvenv/lib/python3.12/site-packages (from roboflow) (0.10.0)\n",
      "Requirement already satisfied: idna==2.10 in /Users/mayankchugh/gitRepos/mayankchugh.learning/Object-Detection-Football-Analysis/footballvenv/lib/python3.12/site-packages (from roboflow) (2.10)\n",
      "Requirement already satisfied: kiwisolver>=1.3.1 in /Users/mayankchugh/gitRepos/mayankchugh.learning/Object-Detection-Football-Analysis/footballvenv/lib/python3.12/site-packages (from roboflow) (1.4.5)\n",
      "Requirement already satisfied: matplotlib in /Users/mayankchugh/gitRepos/mayankchugh.learning/Object-Detection-Football-Analysis/footballvenv/lib/python3.12/site-packages (from roboflow) (3.9.0)\n",
      "Requirement already satisfied: numpy>=1.18.5 in /Users/mayankchugh/gitRepos/mayankchugh.learning/Object-Detection-Football-Analysis/footballvenv/lib/python3.12/site-packages (from roboflow) (1.26.4)\n",
      "Requirement already satisfied: opencv-python-headless==4.8.0.74 in /Users/mayankchugh/gitRepos/mayankchugh.learning/Object-Detection-Football-Analysis/footballvenv/lib/python3.12/site-packages (from roboflow) (4.8.0.74)\n",
      "Requirement already satisfied: Pillow>=7.1.2 in /Users/mayankchugh/gitRepos/mayankchugh.learning/Object-Detection-Football-Analysis/footballvenv/lib/python3.12/site-packages (from roboflow) (10.3.0)\n",
      "Requirement already satisfied: python-dateutil in /Users/mayankchugh/gitRepos/mayankchugh.learning/Object-Detection-Football-Analysis/footballvenv/lib/python3.12/site-packages (from roboflow) (2.9.0)\n",
      "Requirement already satisfied: python-dotenv in /Users/mayankchugh/gitRepos/mayankchugh.learning/Object-Detection-Football-Analysis/footballvenv/lib/python3.12/site-packages (from roboflow) (1.0.1)\n",
      "Requirement already satisfied: requests in /Users/mayankchugh/gitRepos/mayankchugh.learning/Object-Detection-Football-Analysis/footballvenv/lib/python3.12/site-packages (from roboflow) (2.32.2)\n",
      "Requirement already satisfied: six in /Users/mayankchugh/gitRepos/mayankchugh.learning/Object-Detection-Football-Analysis/footballvenv/lib/python3.12/site-packages (from roboflow) (1.16.0)\n",
      "Requirement already satisfied: urllib3>=1.26.6 in /Users/mayankchugh/gitRepos/mayankchugh.learning/Object-Detection-Football-Analysis/footballvenv/lib/python3.12/site-packages (from roboflow) (2.2.1)\n",
      "Requirement already satisfied: tqdm>=4.41.0 in /Users/mayankchugh/gitRepos/mayankchugh.learning/Object-Detection-Football-Analysis/footballvenv/lib/python3.12/site-packages (from roboflow) (4.66.4)\n",
      "Requirement already satisfied: PyYAML>=5.3.1 in /Users/mayankchugh/gitRepos/mayankchugh.learning/Object-Detection-Football-Analysis/footballvenv/lib/python3.12/site-packages (from roboflow) (6.0.1)\n",
      "Requirement already satisfied: requests-toolbelt in /Users/mayankchugh/gitRepos/mayankchugh.learning/Object-Detection-Football-Analysis/footballvenv/lib/python3.12/site-packages (from roboflow) (1.0.0)\n",
      "Requirement already satisfied: python-magic in /Users/mayankchugh/gitRepos/mayankchugh.learning/Object-Detection-Football-Analysis/footballvenv/lib/python3.12/site-packages (from roboflow) (0.4.27)\n",
      "Requirement already satisfied: contourpy>=1.0.1 in /Users/mayankchugh/gitRepos/mayankchugh.learning/Object-Detection-Football-Analysis/footballvenv/lib/python3.12/site-packages (from matplotlib->roboflow) (1.2.1)\n",
      "Requirement already satisfied: fonttools>=4.22.0 in /Users/mayankchugh/gitRepos/mayankchugh.learning/Object-Detection-Football-Analysis/footballvenv/lib/python3.12/site-packages (from matplotlib->roboflow) (4.51.0)\n",
      "Requirement already satisfied: packaging>=20.0 in /Users/mayankchugh/gitRepos/mayankchugh.learning/Object-Detection-Football-Analysis/footballvenv/lib/python3.12/site-packages (from matplotlib->roboflow) (24.0)\n",
      "Requirement already satisfied: pyparsing>=2.3.1 in /Users/mayankchugh/gitRepos/mayankchugh.learning/Object-Detection-Football-Analysis/footballvenv/lib/python3.12/site-packages (from matplotlib->roboflow) (3.1.2)\n",
      "Requirement already satisfied: charset-normalizer<4,>=2 in /Users/mayankchugh/gitRepos/mayankchugh.learning/Object-Detection-Football-Analysis/footballvenv/lib/python3.12/site-packages (from requests->roboflow) (3.3.2)\n"
     ]
    }
   ],
   "source": [
    "!pip install roboflow"
   ]
  },
  {
   "cell_type": "markdown",
   "metadata": {},
   "source": [
    "# Get Dataset"
   ]
  },
  {
   "cell_type": "code",
   "execution_count": 4,
   "metadata": {},
   "outputs": [
    {
     "name": "stdout",
     "output_type": "stream",
     "text": [
      "loading Roboflow workspace...\n",
      "loading Roboflow project...\n"
     ]
    }
   ],
   "source": [
    "from roboflow import Roboflow\n",
    "rf = Roboflow(api_key=\"2s1nBoUdwOKXaDczFrU4\")\n",
    "project = rf.workspace(\"roboflow-jvuqo\").project(\"football-players-detection-3zvbc\")\n",
    "version = project.version(1)\n",
    "dataset = version.download(\"yolov5\")"
   ]
  },
  {
   "cell_type": "code",
   "execution_count": 6,
   "metadata": {},
   "outputs": [
    {
     "data": {
      "text/plain": [
       "'/Users/mayankchugh/gitRepos/mayankchugh.learning/Object-Detection-Football-Analysis/training/football-players-detection-1'"
      ]
     },
     "execution_count": 6,
     "metadata": {},
     "output_type": "execute_result"
    }
   ],
   "source": [
    "dataset.location"
   ]
  },
  {
   "cell_type": "code",
   "execution_count": 7,
   "metadata": {},
   "outputs": [
    {
     "data": {
      "text/plain": [
       "'football-players-detection-1/football-players-detection-1/valid'"
      ]
     },
     "execution_count": 7,
     "metadata": {},
     "output_type": "execute_result"
    }
   ],
   "source": [
    "import shutil\n",
    "\n",
    "shutil.move(\"football-players-detection-1/train\",\n",
    "            \"football-players-detection-1/football-players-detection-1/train\")\n",
    "\n",
    "shutil.move(\"football-players-detection-1/test\",\n",
    "            \"football-players-detection-1/football-players-detection-1/test\")\n",
    "\n",
    "shutil.move(\"football-players-detection-1/valid\",\n",
    "            \"football-players-detection-1/football-players-detection-1/valid\")"
   ]
  },
  {
   "cell_type": "markdown",
   "metadata": {},
   "source": [
    "# Traning "
   ]
  },
  {
   "cell_type": "markdown",
   "metadata": {},
   "source": [
    "!yolo task=detect model=train model=yolo5xpt data={dataset.location}/data.yaml epochs=100 imgsz=640"
   ]
  },
  {
   "cell_type": "markdown",
   "metadata": {},
   "source": []
  },
  {
   "cell_type": "markdown",
   "metadata": {},
   "source": []
  },
  {
   "cell_type": "markdown",
   "metadata": {},
   "source": []
  },
  {
   "cell_type": "code",
   "execution_count": null,
   "metadata": {},
   "outputs": [],
   "source": []
  }
 ],
 "metadata": {
  "kernelspec": {
   "display_name": "Python 3",
   "language": "python",
   "name": "python3"
  },
  "language_info": {
   "codemirror_mode": {
    "name": "ipython",
    "version": 3
   },
   "file_extension": ".py",
   "mimetype": "text/x-python",
   "name": "python",
   "nbconvert_exporter": "python",
   "pygments_lexer": "ipython3",
   "version": "3.12.3"
  }
 },
 "nbformat": 4,
 "nbformat_minor": 2
}
